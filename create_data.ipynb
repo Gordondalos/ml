{
 "metadata": {
  "language_info": {
   "codemirror_mode": {
    "name": "ipython",
    "version": 3
   },
   "file_extension": ".py",
   "mimetype": "text/x-python",
   "name": "python",
   "nbconvert_exporter": "python",
   "pygments_lexer": "ipython3",
   "version": "3.7.4-final"
  },
  "orig_nbformat": 2,
  "kernelspec": {
   "name": "python3",
   "display_name": "Python 3",
   "language": "python"
  }
 },
 "nbformat": 4,
 "nbformat_minor": 2,
 "cells": [
  {
   "cell_type": "code",
   "execution_count": 98,
   "metadata": {},
   "outputs": [],
   "source": [
    "import pandas as pd\n",
    "import matplotlib.pyplot as plt\n",
    "import seaborn as sns\n",
    "import numpy as np\n",
    "from sklearn.model_selection import train_test_split\n",
    "from sklearn.model_selection import StratifiedKFold, KFold\n",
    "from sklearn.preprocessing import StandardScaler, MinMaxScaler\n",
    "from sklearn.linear_model import LogisticRegression\n",
    "from sklearn.tree import DecisionTreeClassifier\n",
    "from sklearn.ensemble import RandomForestClassifier, GradientBoostingClassifier, AdaBoostClassifier, VotingClassifier\n",
    "import xgboost as xgb\n",
    "import catboost as catb\n",
    "import lightgbm as lgbmfrom\n",
    "from sklearn.preprocessing import StandardScaler, MinMaxScaler\n",
    "from sklearn.linear_model import LogisticRegression\n",
    "from sklearn.tree import DecisionTreeClassifier\n",
    "from sklearn.ensemble import RandomForestClassifier, GradientBoostingClassifier, AdaBoostClassifier, VotingClassifier\n",
    "import xgboost as xgb\n",
    "import catboost as catb\n",
    "import lightgbm as lgbm\n",
    "from sklearn.model_selection import GridSearchCV, cross_val_score, learning_curve\n",
    "from sklearn.metrics import classification_report, f1_score, precision_score, recall_score\n",
    "from sklearn.model_selection import RandomizedSearchCV\n",
    "from tqdm import tqdm\n",
    "from sklearn.base import clone\n",
    "from xgboost import XGBClassifier\n",
    "from lightgbm import LGBMClassifier\n",
    "from vecstack import stacking\n",
    "from sklearn.ensemble import StackingClassifier"
   ]
  },
  {
   "cell_type": "code",
   "execution_count": 99,
   "metadata": {},
   "outputs": [],
   "source": [
    "# генераторы признаков квадраты и логорифмы\n",
    "def create_poly_features(data, num_features):\n",
    "    poly_features = np.power(data[num_features], 2)\n",
    "    poly_features = poly_features.rename(columns=dict(zip(data.columns, [col+' sqr' for col in data.columns])))\n",
    "    return data.join(poly_features)\n",
    "\n",
    "def create_log_features(data, num_features):\n",
    "    log_features = np.log(data[num_features], where=data[num_features]>0)\n",
    "    log_features = log_features.rename(columns=dict(zip(data.columns, [col+'_log' for col in data.columns])))\n",
    "    return data.join(log_features)"
   ]
  },
  {
   "cell_type": "code",
   "execution_count": 100,
   "metadata": {},
   "outputs": [],
   "source": [
    "def correct_value(data, target, value):\n",
    "    data.loc[data[target] < value, target] = data[target].median()\n",
    "    return data"
   ]
  },
  {
   "cell_type": "code",
   "execution_count": 101,
   "metadata": {},
   "outputs": [],
   "source": [
    "# Подготовим функцию обработки дата сета\n",
    "def job(data):\n",
    "      # Заменим тех у кого не измерили глюкозу на средние значения\n",
    "      data = correct_value(data, 'Glucose', 60)\n",
    "      # Установим средние значения для кровянного давления, у кого не измерили\n",
    "      data = correct_value(data, 'BloodPressure', 60)\n",
    "      # Установим средние значения тех у кого индекс массы тела меньше 18\n",
    "      data = correct_value(data,'BMI', 18)\n",
    "      # откорректируем толщину кожы в 5 мм так как этот фактор влияет на усвоение инсулина, и его нужно было измерять, тут явно пропуски\n",
    "      data = correct_value(data,'SkinThickness', 5)\n",
    "      # Откорректируем нижнюю границу нормы по инсулину\n",
    "      data = correct_value(data,'Insulin', 15)\n",
    "\n",
    "      #data=data.drop(['BloodPressure', 'SkinThickness', 'Insulin'], axis=1)\n",
    "      #data=data.drop(['Insulin'], axis=1)\n",
    "      #data=data.drop(['Insulin', 'SkinThickness'], axis=1)\n",
    "      #data=data.drop(['BloodPressure', 'SkinThickness'], axis=1)\n",
    "      \n",
    "      # Добавим логарифмы и квадраты для числовых переменных\n",
    "      data = create_poly_features(data, num_features)\n",
    "      data = create_log_features(data, num_features)\n",
    "      return data"
   ]
  },
  {
   "cell_type": "code",
   "execution_count": 102,
   "metadata": {},
   "outputs": [],
   "source": [
    "data = pd.read_csv('./data/train.csv')\n",
    "num_features = ['Pregnancies', 'Glucose', 'BMI', 'Age'] # Insulin\n",
    "data = job(data)\n",
    "data.to_pickle('work_data4.pkl')"
   ]
  }
 ]
}